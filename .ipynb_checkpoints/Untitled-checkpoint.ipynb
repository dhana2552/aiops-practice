{
 "cells": [
  {
   "cell_type": "code",
   "execution_count": 1,
   "id": "efdec5a0-9861-4c98-b20a-cc85c7c5b3e0",
   "metadata": {},
   "outputs": [
    {
     "name": "stdout",
     "output_type": "stream",
     "text": [
      "data.csv\n"
     ]
    }
   ],
   "source": [
    "!ls data"
   ]
  },
  {
   "cell_type": "code",
   "execution_count": 2,
   "id": "4e97eb89-ac80-4d82-af03-fb0546c6a430",
   "metadata": {},
   "outputs": [],
   "source": [
    "import os"
   ]
  },
  {
   "cell_type": "code",
   "execution_count": 3,
   "id": "325695f4-e2a4-46e4-9c9b-27c12cecc7c0",
   "metadata": {},
   "outputs": [],
   "source": [
    "csv_file_path = os.path.join(os.getcwd(), \"data\", \"data.csv\")"
   ]
  },
  {
   "cell_type": "code",
   "execution_count": 4,
   "id": "929bd356-fd1d-4684-96a6-2f8575317899",
   "metadata": {},
   "outputs": [
    {
     "data": {
      "text/plain": [
       "True"
      ]
     },
     "execution_count": 4,
     "metadata": {},
     "output_type": "execute_result"
    }
   ],
   "source": [
    "os.path.exists(csv_file_path)"
   ]
  },
  {
   "cell_type": "code",
   "execution_count": 5,
   "id": "5ba70c5e-c828-4ba3-a8b0-090c6efe88ca",
   "metadata": {},
   "outputs": [
    {
     "data": {
      "text/plain": [
       "'C:\\\\Users\\\\rames\\\\Documents\\\\Dhana\\\\Machine Learning\\\\Internship\\\\AIOPS\\\\data\\\\data.csv'"
      ]
     },
     "execution_count": 5,
     "metadata": {},
     "output_type": "execute_result"
    }
   ],
   "source": [
    "csv_file_path"
   ]
  },
  {
   "cell_type": "code",
   "execution_count": 6,
   "id": "f4171d51-5827-43cf-8976-771040b81f6d",
   "metadata": {},
   "outputs": [],
   "source": [
    "import csv"
   ]
  },
  {
   "cell_type": "code",
   "execution_count": 7,
   "id": "e33ce273-bba1-407c-94cd-acc687d5f787",
   "metadata": {},
   "outputs": [
    {
     "name": "stdout",
     "output_type": "stream",
     "text": [
      "OrderedDict([('pickup_community_area', '60'), ('fare', '27.05'), ('trip_start_month', '10'), ('trip_start_hour', '2'), ('trip_start_day', '3'), ('trip_start_timestamp', '1380593700'), ('pickup_latitude', '41.836150155'), ('pickup_longitude', '-87.648787952'), ('dropoff_latitude', ''), ('dropoff_longitude', ''), ('trip_miles', '12.6'), ('pickup_census_tract', ''), ('dropoff_census_tract', ''), ('payment_type', 'Cash'), ('company', 'Taxi Affiliation Services'), ('trip_seconds', '1380'), ('dropoff_community_area', ''), ('tips', '0.0')])\n"
     ]
    }
   ],
   "source": [
    "with open(csv_file_path) as csv_file:\n",
    "    reader = csv.DictReader(csv_file, delimiter=\",\", quotechar='\"')\n",
    "    for row in reader:\n",
    "        print(row)\n",
    "        break"
   ]
  },
  {
   "cell_type": "code",
   "execution_count": 8,
   "id": "1812f8c1-fdc6-459f-bd6a-972f65c5d410",
   "metadata": {},
   "outputs": [
    {
     "data": {
      "text/plain": [
       "'60'"
      ]
     },
     "execution_count": 8,
     "metadata": {},
     "output_type": "execute_result"
    }
   ],
   "source": [
    "row['pickup_community_area']"
   ]
  },
  {
   "cell_type": "code",
   "execution_count": 9,
   "id": "d2a2b828-3129-4035-984c-662581241362",
   "metadata": {},
   "outputs": [],
   "source": [
    "tf_record_dir = os.path.join(os.getcwd(), \"tf_record_file\")"
   ]
  },
  {
   "cell_type": "code",
   "execution_count": 10,
   "id": "c8d59f21-b72d-466e-a7dd-c6892da99101",
   "metadata": {},
   "outputs": [],
   "source": [
    "os.makedirs(tf_record_dir, exist_ok=True)"
   ]
  },
  {
   "cell_type": "code",
   "execution_count": 11,
   "id": "bc24de02-10dc-4d5c-8412-0e4a8f4b0d2c",
   "metadata": {},
   "outputs": [],
   "source": [
    "tf_record_file_name = os.path.join(tf_record_dir, \"data.tfrecord\")"
   ]
  },
  {
   "cell_type": "code",
   "execution_count": 12,
   "id": "e7ed8da7-a3e1-4ca7-b9f3-1b6c4a6725ee",
   "metadata": {},
   "outputs": [],
   "source": [
    "import tensorflow as tf"
   ]
  },
  {
   "cell_type": "code",
   "execution_count": 13,
   "id": "b20e9128-f058-4de8-befc-2af002aa9da6",
   "metadata": {},
   "outputs": [],
   "source": [
    "tf_record_writer = tf.io.TFRecordWriter(tf_record_file_name)"
   ]
  },
  {
   "cell_type": "code",
   "execution_count": 14,
   "id": "2cbed96c-cd09-49a5-aeec-bdc8adb9bc56",
   "metadata": {},
   "outputs": [],
   "source": [
    "def _bytes_feature(value):\n",
    "    value = value.encode() #converts the strings to bytes\n",
    "    return tf.train.BytesList(value=[value])"
   ]
  },
  {
   "cell_type": "code",
   "execution_count": 15,
   "id": "1e7cad8b-fdaa-42e3-b290-3859e124490d",
   "metadata": {},
   "outputs": [],
   "source": [
    "def _int64_feature(value):\n",
    "    return tf.train.Int64List(value=[value])"
   ]
  },
  {
   "cell_type": "code",
   "execution_count": 16,
   "id": "d4a50b36-4e45-4506-b30e-fb5c3474b8b3",
   "metadata": {},
   "outputs": [],
   "source": [
    "def _float_feature(value):\n",
    "    return tf.train.FloatList(value=[value])"
   ]
  },
  {
   "cell_type": "code",
   "execution_count": 17,
   "id": "8c09fffa-d029-4634-a681-7e77d016dae6",
   "metadata": {},
   "outputs": [
    {
     "data": {
      "text/plain": [
       "features {\n",
       "  feature {\n",
       "    key: \"age\"\n",
       "    value {\n",
       "      int64_list {\n",
       "        value: 35\n",
       "      }\n",
       "    }\n",
       "  }\n",
       "  feature {\n",
       "    key: \"name\"\n",
       "    value {\n",
       "      bytes_list {\n",
       "        value: \"test\"\n",
       "      }\n",
       "    }\n",
       "  }\n",
       "}"
      ]
     },
     "execution_count": 17,
     "metadata": {},
     "output_type": "execute_result"
    }
   ],
   "source": [
    "tf.train.Example(features= \n",
    "                 tf.train.Features(feature = \n",
    "                                   {\"name\": tf.train.Feature(bytes_list=_bytes_feature(value=\"test\")),\n",
    "                                    \"age\": tf.train.Feature(int64_list= _int64_feature(value=35))\n",
    "                                                            }))"
   ]
  },
  {
   "cell_type": "code",
   "execution_count": 18,
   "id": "7de664fe-3239-4436-ac74-da494b97ab22",
   "metadata": {},
   "outputs": [],
   "source": [
    "example = tf.train.Example(features= \n",
    "                 tf.train.Features(feature = \n",
    "                                   {\"name\": tf.train.Feature(bytes_list=_bytes_feature(value=\"test\")),\n",
    "                                    \"age\": tf.train.Feature(int64_list= _int64_feature(value=35))\n",
    "                                                            }))"
   ]
  },
  {
   "cell_type": "code",
   "execution_count": 19,
   "id": "6142c1ec-aaf3-4b90-8799-02676a24518d",
   "metadata": {},
   "outputs": [
    {
     "data": {
      "text/plain": [
       "b'\\n \\n\\x10\\n\\x04name\\x12\\x08\\n\\x06\\n\\x04test\\n\\x0c\\n\\x03age\\x12\\x05\\x1a\\x03\\n\\x01#'"
      ]
     },
     "execution_count": 19,
     "metadata": {},
     "output_type": "execute_result"
    }
   ],
   "source": [
    "example.SerializeToString()"
   ]
  },
  {
   "cell_type": "code",
   "execution_count": 20,
   "id": "ecb93c6c-3edb-4929-8eac-5d02610e5a71",
   "metadata": {},
   "outputs": [],
   "source": [
    "#Refactoring more on the methods\n",
    "def _bytes_feature(value):\n",
    "    value = value.encode() #converts the strings to bytes\n",
    "    return tf.train.Feature(bytes_list=tf.train.BytesList(value=[value]))\n",
    "def _int64_feature(value):\n",
    "    return tf.train.Feature(int64_list=tf.train.Int64List(value=[value]))\n",
    "def _float_feature(value):\n",
    "    return tf.train.Feature(float_list=tf.train.FloatList(value=[value]))"
   ]
  },
  {
   "cell_type": "code",
   "execution_count": 21,
   "id": "9b23883a-577f-4683-9119-fdfaa9a54059",
   "metadata": {},
   "outputs": [],
   "source": [
    "row_example = tf.train.Example(features= \n",
    "                 tf.train.Features(feature = \n",
    "                                   {\"name\": _bytes_feature(value=\"test\"),\n",
    "                                    \"age\": _int64_feature(value=35)\n",
    "                                                            }))"
   ]
  },
  {
   "cell_type": "code",
   "execution_count": 22,
   "id": "96cd8188-f611-450d-add0-6abbf84ea720",
   "metadata": {},
   "outputs": [
    {
     "data": {
      "text/plain": [
       "b'\\n \\n\\x0c\\n\\x03age\\x12\\x05\\x1a\\x03\\n\\x01#\\n\\x10\\n\\x04name\\x12\\x08\\n\\x06\\n\\x04test'"
      ]
     },
     "execution_count": 22,
     "metadata": {},
     "output_type": "execute_result"
    }
   ],
   "source": [
    "row_example.SerializeToString()"
   ]
  },
  {
   "cell_type": "code",
   "execution_count": 23,
   "id": "0eb1606a-1d9b-4901-9765-6673feecf0c2",
   "metadata": {},
   "outputs": [],
   "source": [
    "with open(csv_file_path) as csv_file:\n",
    "    reader = csv.DictReader(csv_file, delimiter=\",\", quotechar='\"')\n",
    "    for row in reader:\n",
    "        feature = {\n",
    "            \"pickup_community_area\": _bytes_feature(row['pickup_community_area']),\n",
    "            \"fare\": _float_feature(float(row['fare'])),\n",
    "            \"trip_start_month\": _int64_feature(int(row['trip_start_month']))\n",
    "        }\n",
    "        features = tf.train.Features(feature=feature)\n",
    "        example = tf.train.Example(features=features)\n",
    "        tf_record_writer.write(example.SerializeToString())\n",
    "        \n",
    "tf_record_writer.close()"
   ]
  },
  {
   "cell_type": "code",
   "execution_count": 24,
   "id": "0472267d-eaa9-4d54-a310-981872884a3d",
   "metadata": {},
   "outputs": [],
   "source": [
    "from tfx.components import CsvExampleGen"
   ]
  },
  {
   "cell_type": "code",
   "execution_count": 25,
   "id": "f4ee4bd6-de90-4065-ae1a-b687d2f52b97",
   "metadata": {},
   "outputs": [],
   "source": [
    "csv_example_gen = CsvExampleGen(input_base=os.path.join(os.getcwd(),\"data\"))"
   ]
  },
  {
   "cell_type": "markdown",
   "id": "dda54ff4-7066-4387-9b96-d1c268123cbe",
   "metadata": {},
   "source": [
    "**To create a parquet file from csv**"
   ]
  },
  {
   "cell_type": "code",
   "execution_count": 26,
   "id": "b538cbee-a3a2-4908-b24a-b385182da053",
   "metadata": {},
   "outputs": [],
   "source": [
    "import pandas as pd"
   ]
  },
  {
   "cell_type": "code",
   "execution_count": 27,
   "id": "b3b22621-0eb0-4123-9775-fffa12d55b19",
   "metadata": {},
   "outputs": [
    {
     "data": {
      "text/plain": [
       "'C:\\\\Users\\\\rames\\\\Documents\\\\Dhana\\\\Machine Learning\\\\Internship\\\\AIOPS'"
      ]
     },
     "execution_count": 27,
     "metadata": {},
     "output_type": "execute_result"
    }
   ],
   "source": [
    "os.getcwd()"
   ]
  },
  {
   "cell_type": "code",
   "execution_count": 28,
   "id": "69755b3b-26eb-4f57-8e63-a8f5f99d656d",
   "metadata": {},
   "outputs": [],
   "source": [
    "parquet_dataset_dir = os.path.join(os.getcwd(), 'parquet_dir')"
   ]
  },
  {
   "cell_type": "code",
   "execution_count": 29,
   "id": "9acf24e9-3c0b-4700-a2e6-72cccf0a0d89",
   "metadata": {},
   "outputs": [],
   "source": [
    "os.makedirs(parquet_dataset_dir, exist_ok=True)"
   ]
  },
  {
   "cell_type": "code",
   "execution_count": 30,
   "id": "9a6db510-b2bf-42fb-8ca7-c755041f56c6",
   "metadata": {},
   "outputs": [],
   "source": [
    "parquet_file_name = 'data.parquet'"
   ]
  },
  {
   "cell_type": "code",
   "execution_count": 31,
   "id": "9f877d37-d598-497f-88aa-7b21479c0d0b",
   "metadata": {},
   "outputs": [],
   "source": [
    "parquet_file_path = os.path.join(parquet_dataset_dir, parquet_file_name)"
   ]
  },
  {
   "cell_type": "code",
   "execution_count": 32,
   "id": "bb24c132-f949-4754-a5ca-ba0805a1b97b",
   "metadata": {},
   "outputs": [
    {
     "data": {
      "text/plain": [
       "'C:\\\\Users\\\\rames\\\\Documents\\\\Dhana\\\\Machine Learning\\\\Internship\\\\AIOPS\\\\parquet_dir\\\\data.parquet'"
      ]
     },
     "execution_count": 32,
     "metadata": {},
     "output_type": "execute_result"
    }
   ],
   "source": [
    "parquet_file_path"
   ]
  },
  {
   "cell_type": "code",
   "execution_count": 33,
   "id": "abb92bd3-230c-4602-8ae1-1635ebb51c00",
   "metadata": {},
   "outputs": [],
   "source": [
    "pd.read_csv(csv_file_path).to_parquet(parquet_file_path, index=None)"
   ]
  },
  {
   "cell_type": "code",
   "execution_count": null,
   "id": "d42f192d-22c1-48f7-be29-2711d4eac1d3",
   "metadata": {},
   "outputs": [],
   "source": []
  }
 ],
 "metadata": {
  "kernelspec": {
   "display_name": "Python 3",
   "language": "python",
   "name": "python3"
  },
  "language_info": {
   "codemirror_mode": {
    "name": "ipython",
    "version": 3
   },
   "file_extension": ".py",
   "mimetype": "text/x-python",
   "name": "python",
   "nbconvert_exporter": "python",
   "pygments_lexer": "ipython3",
   "version": "3.7.0"
  }
 },
 "nbformat": 4,
 "nbformat_minor": 5
}
