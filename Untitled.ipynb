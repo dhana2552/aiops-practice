{
 "cells": [
  {
   "cell_type": "code",
   "execution_count": 1,
   "id": "f9dcca43",
   "metadata": {},
   "outputs": [
    {
     "name": "stdout",
     "output_type": "stream",
     "text": [
      "data.csv\n"
     ]
    }
   ],
   "source": [
    "!ls data"
   ]
  },
  {
   "cell_type": "code",
   "execution_count": 2,
   "id": "2340b95f",
   "metadata": {},
   "outputs": [],
   "source": [
    "import os"
   ]
  },
  {
   "cell_type": "code",
   "execution_count": 3,
   "id": "ebe877fa",
   "metadata": {},
   "outputs": [],
   "source": [
    "csv_file_path = os.path.join(os.getcwd(), \"data\", \"data.csv\")"
   ]
  },
  {
   "cell_type": "code",
   "execution_count": 4,
   "id": "cd54a0e8",
   "metadata": {},
   "outputs": [
    {
     "data": {
      "text/plain": [
       "True"
      ]
     },
     "execution_count": 4,
     "metadata": {},
     "output_type": "execute_result"
    }
   ],
   "source": [
    "os.path.exists(csv_file_path)"
   ]
  },
  {
   "cell_type": "code",
   "execution_count": 5,
   "id": "4daa3be8",
   "metadata": {},
   "outputs": [
    {
     "data": {
      "text/plain": [
       "'C:\\\\Users\\\\rames\\\\Documents\\\\Dhana\\\\Machine Learning\\\\Internship\\\\AIOPS\\\\data\\\\data.csv'"
      ]
     },
     "execution_count": 5,
     "metadata": {},
     "output_type": "execute_result"
    }
   ],
   "source": [
    "csv_file_path"
   ]
  },
  {
   "cell_type": "code",
   "execution_count": 6,
   "id": "ceecc5a4",
   "metadata": {},
   "outputs": [],
   "source": [
    "import csv"
   ]
  },
  {
   "cell_type": "code",
   "execution_count": 7,
   "id": "ea378ac2",
   "metadata": {},
   "outputs": [
    {
     "name": "stdout",
     "output_type": "stream",
     "text": [
      "{'pickup_community_area': '60', 'fare': '27.05', 'trip_start_month': '10', 'trip_start_hour': '2', 'trip_start_day': '3', 'trip_start_timestamp': '1380593700', 'pickup_latitude': '41.836150155', 'pickup_longitude': '-87.648787952', 'dropoff_latitude': '', 'dropoff_longitude': '', 'trip_miles': '12.6', 'pickup_census_tract': '', 'dropoff_census_tract': '', 'payment_type': 'Cash', 'company': 'Taxi Affiliation Services', 'trip_seconds': '1380', 'dropoff_community_area': '', 'tips': '0.0'}\n"
     ]
    }
   ],
   "source": [
    "with open(csv_file_path) as csv_file:\n",
    "    reader = csv.DictReader(csv_file, delimiter=\",\", quotechar='\"')\n",
    "    for row in reader:\n",
    "        print(row)\n",
    "        break"
   ]
  },
  {
   "cell_type": "code",
   "execution_count": 8,
   "id": "36f0d688",
   "metadata": {},
   "outputs": [
    {
     "data": {
      "text/plain": [
       "'60'"
      ]
     },
     "execution_count": 8,
     "metadata": {},
     "output_type": "execute_result"
    }
   ],
   "source": [
    "row['pickup_community_area']"
   ]
  },
  {
   "cell_type": "code",
   "execution_count": 9,
   "id": "71e4d0f0",
   "metadata": {},
   "outputs": [],
   "source": [
    "tf_record_dir = os.path.join(os.getcwd(), \"tf_record_file\")"
   ]
  },
  {
   "cell_type": "code",
   "execution_count": 10,
   "id": "09735d2b",
   "metadata": {},
   "outputs": [],
   "source": [
    "os.makedirs(tf_record_dir, exist_ok=True)"
   ]
  },
  {
   "cell_type": "code",
   "execution_count": 11,
   "id": "c0855594",
   "metadata": {},
   "outputs": [],
   "source": [
    "tf_record_file_name = os.path.join(tf_record_dir, \"data.tfrecord\")"
   ]
  },
  {
   "cell_type": "code",
   "execution_count": 12,
   "id": "ce396055",
   "metadata": {},
   "outputs": [
    {
     "name": "stderr",
     "output_type": "stream",
     "text": [
      "C:\\Users\\rames\\anaconda3\\lib\\site-packages\\numpy\\_distributor_init.py:30: UserWarning: loaded more than 1 DLL from .libs:\n",
      "C:\\Users\\rames\\anaconda3\\lib\\site-packages\\numpy\\.libs\\libopenblas.GK7GX5KEQ4F6UYO3P26ULGBQYHGQO7J4.gfortran-win_amd64.dll\n",
      "C:\\Users\\rames\\anaconda3\\lib\\site-packages\\numpy\\.libs\\libopenblas.WCDJNK7YVMPZQ2ME2ZZHJJRJ3JIKNDB7.gfortran-win_amd64.dll\n",
      "  warnings.warn(\"loaded more than 1 DLL from .libs:\"\n"
     ]
    }
   ],
   "source": [
    "import tensorflow as tf"
   ]
  },
  {
   "cell_type": "code",
   "execution_count": 13,
   "id": "dd319f86",
   "metadata": {},
   "outputs": [],
   "source": [
    "tf_record_writer = tf.io.TFRecordWriter(tf_record_file_name)"
   ]
  },
  {
   "cell_type": "code",
   "execution_count": 14,
   "id": "e41dfc88",
   "metadata": {},
   "outputs": [],
   "source": [
    "def _bytes_feature(value):\n",
    "    value = value.encode() #converts the strings to bytes\n",
    "    return tf.train.BytesList(value=[value])"
   ]
  },
  {
   "cell_type": "code",
   "execution_count": 15,
   "id": "2845aed5",
   "metadata": {},
   "outputs": [],
   "source": [
    "def _int64_feature(value):\n",
    "    return tf.train.Int64List(value=[value])"
   ]
  },
  {
   "cell_type": "code",
   "execution_count": 16,
   "id": "85f1abc4",
   "metadata": {},
   "outputs": [],
   "source": [
    "def _float_feature(value):\n",
    "    return tf.train.FloatList(value=[value])"
   ]
  },
  {
   "cell_type": "code",
   "execution_count": 17,
   "id": "e8adacad",
   "metadata": {},
   "outputs": [
    {
     "data": {
      "text/plain": [
       "features {\n",
       "  feature {\n",
       "    key: \"age\"\n",
       "    value {\n",
       "      int64_list {\n",
       "        value: 35\n",
       "      }\n",
       "    }\n",
       "  }\n",
       "  feature {\n",
       "    key: \"name\"\n",
       "    value {\n",
       "      bytes_list {\n",
       "        value: \"test\"\n",
       "      }\n",
       "    }\n",
       "  }\n",
       "}"
      ]
     },
     "execution_count": 17,
     "metadata": {},
     "output_type": "execute_result"
    }
   ],
   "source": [
    "tf.train.Example(features= \n",
    "                 tf.train.Features(feature = \n",
    "                                   {\"name\": tf.train.Feature(bytes_list=_bytes_feature(value=\"test\")),\n",
    "                                    \"age\": tf.train.Feature(int64_list= _int64_feature(value=35))\n",
    "                                                            }))"
   ]
  },
  {
   "cell_type": "code",
   "execution_count": 18,
   "id": "e5247ac1",
   "metadata": {},
   "outputs": [],
   "source": [
    "example = tf.train.Example(features= \n",
    "                 tf.train.Features(feature = \n",
    "                                   {\"name\": tf.train.Feature(bytes_list=_bytes_feature(value=\"test\")),\n",
    "                                    \"age\": tf.train.Feature(int64_list= _int64_feature(value=35))\n",
    "                                                            }))"
   ]
  },
  {
   "cell_type": "code",
   "execution_count": 19,
   "id": "7a16c374",
   "metadata": {},
   "outputs": [
    {
     "data": {
      "text/plain": [
       "b'\\n \\n\\x10\\n\\x04name\\x12\\x08\\n\\x06\\n\\x04test\\n\\x0c\\n\\x03age\\x12\\x05\\x1a\\x03\\n\\x01#'"
      ]
     },
     "execution_count": 19,
     "metadata": {},
     "output_type": "execute_result"
    }
   ],
   "source": [
    "example.SerializeToString()"
   ]
  },
  {
   "cell_type": "code",
   "execution_count": 20,
   "id": "4f68467d",
   "metadata": {},
   "outputs": [],
   "source": [
    "#Refactoring more on the methods\n",
    "def _bytes_feature(value):\n",
    "    value = value.encode() #converts the strings to bytes\n",
    "    return tf.train.Feature(bytes_list=tf.train.BytesList(value=[value]))\n",
    "def _int64_feature(value):\n",
    "    return tf.train.Feature(int64_list=tf.train.Int64List(value=[value]))\n",
    "def _float_feature(value):\n",
    "    return tf.train.Feature(float_list=tf.train.FloatList(value=[value]))"
   ]
  },
  {
   "cell_type": "code",
   "execution_count": 21,
   "id": "526ed68a",
   "metadata": {},
   "outputs": [],
   "source": [
    "row_example = tf.train.Example(features= \n",
    "                 tf.train.Features(feature = \n",
    "                                   {\"name\": _bytes_feature(value=\"test\"),\n",
    "                                    \"age\": _int64_feature(value=35)\n",
    "                                                            }))"
   ]
  },
  {
   "cell_type": "code",
   "execution_count": 22,
   "id": "b30b967f",
   "metadata": {},
   "outputs": [
    {
     "data": {
      "text/plain": [
       "b'\\n \\n\\x10\\n\\x04name\\x12\\x08\\n\\x06\\n\\x04test\\n\\x0c\\n\\x03age\\x12\\x05\\x1a\\x03\\n\\x01#'"
      ]
     },
     "execution_count": 22,
     "metadata": {},
     "output_type": "execute_result"
    }
   ],
   "source": [
    "row_example.SerializeToString()"
   ]
  },
  {
   "cell_type": "code",
   "execution_count": 23,
   "id": "216e9533",
   "metadata": {},
   "outputs": [],
   "source": [
    "with open(csv_file_path) as csv_file:\n",
    "    reader = csv.DictReader(csv_file, delimiter=\",\", quotechar='\"')\n",
    "    for row in reader:\n",
    "        feature = {\n",
    "            \"pickup_community_area\": _bytes_feature(row['pickup_community_area']),\n",
    "            \"fare\": _float_feature(float(row['fare'])),\n",
    "            \"trip_start_month\": _int64_feature(int(row['trip_start_month']))\n",
    "        }\n",
    "        features = tf.train.Features(feature=feature)\n",
    "        example = tf.train.Example(features=features)\n",
    "        tf_record_writer.write(example.SerializeToString())\n",
    "        \n",
    "tf_record_writer.close()"
   ]
  },
  {
   "cell_type": "code",
   "execution_count": 24,
   "id": "415306bc",
   "metadata": {},
   "outputs": [
    {
     "ename": "ModuleNotFoundError",
     "evalue": "No module named 'tfx'",
     "output_type": "error",
     "traceback": [
      "\u001b[1;31m---------------------------------------------------------------------------\u001b[0m",
      "\u001b[1;31mModuleNotFoundError\u001b[0m                       Traceback (most recent call last)",
      "\u001b[1;32m~\\AppData\\Local\\Temp/ipykernel_21976/2397883487.py\u001b[0m in \u001b[0;36m<module>\u001b[1;34m\u001b[0m\n\u001b[1;32m----> 1\u001b[1;33m \u001b[1;32mfrom\u001b[0m \u001b[0mtfx\u001b[0m\u001b[1;33m.\u001b[0m\u001b[0mcomponents\u001b[0m \u001b[1;32mimport\u001b[0m \u001b[0mCsvExampleGen\u001b[0m\u001b[1;33m\u001b[0m\u001b[1;33m\u001b[0m\u001b[0m\n\u001b[0m",
      "\u001b[1;31mModuleNotFoundError\u001b[0m: No module named 'tfx'"
     ]
    }
   ],
   "source": [
    "from tfx.components import CsvExampleGen"
   ]
  },
  {
   "cell_type": "code",
   "execution_count": 25,
   "id": "32d7c233",
   "metadata": {},
   "outputs": [],
   "source": [
    "csv_example_gen = CsvExampleGen(input_base=os.path.join(os.getcwd(),\"data\"))"
   ]
  },
  {
   "cell_type": "markdown",
   "id": "79249e4c",
   "metadata": {},
   "source": [
    "**To create a parquet file from csv**"
   ]
  },
  {
   "cell_type": "code",
   "execution_count": 26,
   "id": "3da7dcc2",
   "metadata": {},
   "outputs": [],
   "source": [
    "import pandas as pd"
   ]
  },
  {
   "cell_type": "code",
   "execution_count": 27,
   "id": "e883f873",
   "metadata": {},
   "outputs": [
    {
     "data": {
      "text/plain": [
       "'C:\\\\Users\\\\rames\\\\Documents\\\\Dhana\\\\Machine Learning\\\\Internship\\\\AIOPS'"
      ]
     },
     "execution_count": 27,
     "metadata": {},
     "output_type": "execute_result"
    }
   ],
   "source": [
    "os.getcwd()"
   ]
  },
  {
   "cell_type": "code",
   "execution_count": 28,
   "id": "c439419d",
   "metadata": {},
   "outputs": [],
   "source": [
    "parquet_dataset_dir = os.path.join(os.getcwd(), 'parquet_dir')"
   ]
  },
  {
   "cell_type": "code",
   "execution_count": 29,
   "id": "32d3a3e7",
   "metadata": {},
   "outputs": [],
   "source": [
    "os.makedirs(parquet_dataset_dir, exist_ok=True)"
   ]
  },
  {
   "cell_type": "code",
   "execution_count": 30,
   "id": "88703d69",
   "metadata": {},
   "outputs": [],
   "source": [
    "parquet_file_name = 'data.parquet'"
   ]
  },
  {
   "cell_type": "code",
   "execution_count": 31,
   "id": "05dab0e6",
   "metadata": {},
   "outputs": [],
   "source": [
    "parquet_file_path = os.path.join(parquet_dataset_dir, parquet_file_name)"
   ]
  },
  {
   "cell_type": "code",
   "execution_count": 32,
   "id": "38121fcd",
   "metadata": {},
   "outputs": [
    {
     "data": {
      "text/plain": [
       "'C:\\\\Users\\\\rames\\\\Documents\\\\Dhana\\\\Machine Learning\\\\Internship\\\\AIOPS\\\\parquet_dir\\\\data.parquet'"
      ]
     },
     "execution_count": 32,
     "metadata": {},
     "output_type": "execute_result"
    }
   ],
   "source": [
    "parquet_file_path"
   ]
  },
  {
   "cell_type": "code",
   "execution_count": 33,
   "id": "ff75ed26",
   "metadata": {},
   "outputs": [],
   "source": [
    "pd.read_csv(csv_file_path).to_parquet(parquet_file_path, index=None)"
   ]
  },
  {
   "cell_type": "code",
   "execution_count": null,
   "id": "ced55625",
   "metadata": {},
   "outputs": [],
   "source": []
  }
 ],
 "metadata": {
  "kernelspec": {
   "display_name": "Python 3",
   "language": "python",
   "name": "python3"
  },
  "language_info": {
   "codemirror_mode": {
    "name": "ipython",
    "version": 3
   },
   "file_extension": ".py",
   "mimetype": "text/x-python",
   "name": "python",
   "nbconvert_exporter": "python",
   "pygments_lexer": "ipython3",
   "version": "3.7.0"
  }
 },
 "nbformat": 4,
 "nbformat_minor": 5
}
